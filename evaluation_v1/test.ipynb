{
 "cells": [
  {
   "cell_type": "code",
   "execution_count": null,
   "id": "7b4e8c64",
   "metadata": {},
   "outputs": [
    {
     "name": "stdout",
     "output_type": "stream",
     "text": [
      "🔍 Total mismatches(QWEN-qlora): 4488\n"
     ]
    }
   ],
   "source": [
    "\"\"\" \n",
    "CHECKING EXACT MISMATCHES COUNTS BETWEEN TWO MODELS(GPT AND FINETUNED QLORA QWEN)\n",
    "\"\"\"\n",
    "\n",
    "import pandas as pd\n",
    "import ast\n",
    "import random\n",
    "\n",
    "def safe_parse(val):\n",
    "    try:\n",
    "        return ast.literal_eval(val) if isinstance(val, str) else val\n",
    "    except:\n",
    "        return val\n",
    "\n",
    "def normalize(value):\n",
    "    \"\"\"Sort lists inside dicts for fair comparison\"\"\"\n",
    "    if isinstance(value, dict):\n",
    "        return {k: sorted(v) if isinstance(v, list) else v for k, v in value.items()}\n",
    "    return value\n",
    "\n",
    "# Load Excel\n",
    "data = pd.read_excel('/Users/rishabh.singh/Desktop/ai-search-retrieval-pipeline-poc-2/qlora_results_20000.xlsx')\n",
    "\n",
    "mismatch_count = 0\n",
    "mismatches = []\n",
    "\n",
    "for index, row in data.iterrows():\n",
    "    expected = normalize(safe_parse((row['expected_output']).lower()))\n",
    "    predicted = normalize(safe_parse((row['qwen_lora_response']).lower()))\n",
    "    \n",
    "    if expected != predicted:\n",
    "        mismatch_count += 1\n",
    "        mismatches.append((index, row['query'],expected, predicted))\n",
    "\n",
    "print(f\"🔍 Total mismatches(QWEN-qlora): {mismatch_count}\")\n",
    "\n",
    "# random.shuffle(mismatches)\n",
    "\n",
    "# for index, query, expected, predicted in mismatches[:5]:\n",
    "#     print(f\"🔍 Mismatch {index+1}:\")\n",
    "#     print(f\"   Query: {query}\")\n",
    "#     print(f\"   Expected: {expected}\")\n",
    "#     print(f\"   Predicted: {predicted}\")\n",
    "#     print(\"\\n\")\n",
    "\n",
    "mismatches_df = pd.DataFrame(mismatches, columns=['index','Query', 'model_1', 'model_2'])\n",
    "mismatches_df.to_json('/Users/rishabh.singh/Desktop/ai-search-retrieval-pipeline-poc-2/app/models/evaluation_v1/mismatched_outputs.json', orient='records', indent=4)"
   ]
  },
  {
   "cell_type": "code",
   "execution_count": 6,
   "id": "2a8cfe84",
   "metadata": {},
   "outputs": [
    {
     "name": "stdout",
     "output_type": "stream",
     "text": [
      "🔍 Total mismatches(QWEN-base): 10921\n"
     ]
    }
   ],
   "source": [
    "\"\"\" \n",
    "CHECKING EXACT MISMATCHES COUNTS BETWEEN TWO MODELS(GPT AND QWEN-base)\n",
    "\"\"\"\n",
    "\n",
    "import pandas as pd\n",
    "import ast\n",
    "import random\n",
    "\n",
    "def safe_parse(val):\n",
    "    try:\n",
    "        return ast.literal_eval(val) if isinstance(val, str) else val\n",
    "    except:\n",
    "        return val\n",
    "\n",
    "def normalize(value):\n",
    "    \"\"\"Sort lists inside dicts for fair comparison\"\"\"\n",
    "    if isinstance(value, dict):\n",
    "        return {k: sorted(v) if isinstance(v, list) else v for k, v in value.items()}\n",
    "    return value\n",
    "\n",
    "# Load Excel\n",
    "data = pd.read_excel('/Users/rishabh.singh/Desktop/ai-search-retrieval-pipeline-poc-2/base_results_20000.xlsx')\n",
    "\n",
    "mismatch_count = 0\n",
    "mismatches = []\n",
    "\n",
    "for index, row in data.iterrows():\n",
    "    expected = normalize(safe_parse((row['expected_output']).lower()))\n",
    "    predicted = normalize(safe_parse((row['qwen_lora_response']).lower()))\n",
    "    \n",
    "    if expected != predicted:\n",
    "        mismatch_count += 1\n",
    "        mismatches.append((index, row['query'],expected, predicted))\n",
    "\n",
    "print(f\"🔍 Total mismatches(QWEN-base): {mismatch_count}\")\n",
    "\n",
    "# random.shuffle(mismatches)\n",
    "\n",
    "# for index, query, expected, predicted in mismatches[:5]:\n",
    "#     print(f\"🔍 Mismatch {index+1}:\")\n",
    "#     print(f\"   Query: {query}\")\n",
    "#     print(f\"   Expected: {expected}\")\n",
    "#     print(f\"   Predicted: {predicted}\")\n",
    "#     print(\"\\n\")\n",
    "\n",
    "mismatches_df = pd.DataFrame(mismatches, columns=['index','Query', 'model_1', 'model_2'])\n",
    "mismatches_df.to_json('/Users/rishabh.singh/Desktop/ai-search-retrieval-pipeline-poc-2/app/evaluation_v1/mismatched_outputs_base.json', orient='records', indent=4)"
   ]
  },
  {
   "cell_type": "code",
   "execution_count": 9,
   "id": "4656c0a2",
   "metadata": {},
   "outputs": [
    {
     "name": "stdout",
     "output_type": "stream",
     "text": [
      "🔍 Total mismatches(TinyLLAMA): 5621\n"
     ]
    }
   ],
   "source": [
    "\"\"\" \n",
    "CHECKING EXACT MISMATCHES COUNTS BETWEEN TWO MODELS(GPT AND FINETUNED QLORA TinyLLAMA) \n",
    "\"\"\"\n",
    "\n",
    "import pandas as pd\n",
    "import ast\n",
    "import random\n",
    "\n",
    "def safe_parse(val):\n",
    "    try:\n",
    "        return ast.literal_eval(val) if isinstance(val, str) else val\n",
    "    except:\n",
    "        return val\n",
    "\n",
    "def normalize(value):\n",
    "    \"\"\"Sort lists inside dicts for fair comparison\"\"\"\n",
    "    if isinstance(value, dict):\n",
    "        return {k: sorted(v) if isinstance(v, list) else v for k, v in value.items()}\n",
    "    return value\n",
    "\n",
    "# Load Excel\n",
    "data = pd.read_excel('/Users/rishabh.singh/Desktop/ai-search-retrieval-pipeline-poc-2/llama1B_results_20_lora.xlsx')\n",
    "\n",
    "mismatch_count = 0\n",
    "mismatches = []\n",
    "\n",
    "for index, row in data.iterrows():\n",
    "    expected = normalize(safe_parse((row['expected_output']).lower()))\n",
    "    predicted = normalize(safe_parse((row['llama_lora_response']).lower()))\n",
    "    \n",
    "    if expected != predicted:\n",
    "        mismatch_count += 1\n",
    "        mismatches.append((index, row['query'],expected, predicted))\n",
    "\n",
    "print(f\"🔍 Total mismatches(TinyLLAMA): {mismatch_count}\")\n",
    "\n",
    "# random.shuffle(mismatches)\n",
    "\n",
    "# for index, query, expected, predicted in mismatches[:5]:\n",
    "#     print(f\"🔍 Mismatch {index+1}:\")\n",
    "#     print(f\"   Query: {query}\")\n",
    "#     print(f\"   Expected: {expected}\")\n",
    "#     print(f\"   Predicted: {predicted}\")\n",
    "#     print(\"\\n\")\n",
    "\n",
    "mismatches_df = pd.DataFrame(mismatches, columns=['index','Query', 'model_1_gpt', 'model_2_llama'])\n",
    "mismatches_df.to_json('mismatched_outputs_llama_2nd.json', orient='records', indent=4)"
   ]
  }
 ],
 "metadata": {
  "kernelspec": {
   "display_name": "venv",
   "language": "python",
   "name": "python3"
  },
  "language_info": {
   "codemirror_mode": {
    "name": "ipython",
    "version": 3
   },
   "file_extension": ".py",
   "mimetype": "text/x-python",
   "name": "python",
   "nbconvert_exporter": "python",
   "pygments_lexer": "ipython3",
   "version": "3.11.13"
  }
 },
 "nbformat": 4,
 "nbformat_minor": 5
}
